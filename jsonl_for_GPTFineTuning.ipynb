{
  "nbformat": 4,
  "nbformat_minor": 0,
  "metadata": {
    "colab": {
      "provenance": []
    },
    "kernelspec": {
      "name": "python3",
      "display_name": "Python 3"
    },
    "language_info": {
      "name": "python"
    }
  },
  "cells": [
    {
      "cell_type": "code",
      "execution_count": null,
      "metadata": {
        "colab": {
          "base_uri": "https://localhost:8080/"
        },
        "id": "puOZPrffccl7",
        "outputId": "b71e45fe-127f-4aae-cc28-dd5f10338f12"
      },
      "outputs": [
        {
          "output_type": "stream",
          "name": "stdout",
          "text": [
            "{'role': 'user', 'content': '회사 이름이 슬래시 (\\'/\\')로 구분되어 하나의 문자열로 저장되어 있다.\\n\\nstring = \"삼성전자/LG전자/Naver\"\\n이를 interest 이름의 리스트로 분리 저장하라.\\n\\n실행 예시\\n>> print(interest)\\n[\\'삼성전자\\', \\'LG전자\\', \\'Naver\\']'}\n",
            "{'role': 'assistant', 'content': \"이 문제를 해결하기 위해서는 먼저 `string` 변수를 콤마(',')를 기준으로 분리한 후에 각각의 요소에서 슬래시('/')를 기준으로 다시 분리해야 합니다.\\n\\n1. `string` 변수를 콤마(',')를 기준으로 분리하여 리스트로 만듭니다.\\n2. 분리된 각 요소에서 슬래시('/')를 기준으로 분리하여 최종적으로 원하는 형태의 리스트를 만듭니다.\\n\\n위 단계에 따라서 천천히 코드를 작성하면서 각 단계마다 결과를 확인하고 수정해가면서 원하는 결과를 얻을 수 있습니다.\"}\n",
            "{'role': 'user', 'content': '힌트 한번 더 볼래요!'}\n",
            "{'role': 'assistant', 'content': '문제를 해결하기 위해서는 다음 단계에 따라 코드를 작성해야 합니다. \\n\\n1. 먼저 `string` 변수를 콤마(\\',\\')를 기준으로 분리하여 리스트로 만드는 작업을 해야 합니다. 이를 위해서는 `split()` 메서드를 사용하면 됩니다. `split()` 메서드를 사용하면 문자열을 지정한 구분자를 기준으로 분리하여 리스트로 반환합니다. \\n    - 예를 들어, `\"국어, 정보, 수학, 체육, 역사\"` 문자열을 `split(\",\")` 을 사용하여 콤마를 기준으로 분리하면 `[\"국어\", \" 정보\", \" 수학\", \" 체육\", \" 역사\"]` 리스트가 만들어집니다.\\n    \\n2. 분리된 각 요소에서 슬래시(\\'/\\')를 기준으로 분리하여 최종적으로 원하는 형태의 리스트를 만들어야 합니다. \\n    - 이를 위해서는 처음에 얻어진 리스트의 각 요소에 대해 다시 `split()` 메서드를 사용하여 슬래시(\\'/\\')를 기준으로 분리하면 됩니다.\\n    - 예를 들어, `\"국어/정보/수학/체육/역사\"` 문자열을 `split(\"/\")` 을 사용하여 슬래시를 기준으로 분리하면 `[\"국어\", \"정보\", \"수학\", \"체육\", \"역사\"]` 리스트가 만들어집니다.\\n\\n이렇게 천천히 코드를 작성하면서 각 단계에서 결과를 확인하고 수정해가면서 원하는 결과를 얻을 수 있습니다. 한 단계가 잘 이해되고 작동하는지 확인 후 다음 단계로 넘어가는 것이 중요합니다.'}\n",
            "{'role': 'user', 'content': '정답 코드를 알고 싶어요!'}\n",
            "{'role': 'assistant', 'content': '```python\\n# 1. string 변수를 콤마(\\',\\')를 기준으로 분리하여 리스트로 만듭니다.\\nstring = \"국어, 정보, 수학, 체육, 역사\"\\nsplit_by_comma = string.split(\\',\\')\\nprint(split_by_comma)\\n\\n# 2. 분리된 각 요소에서 슬래시(\\'/\\')를 기준으로 분리하여 최종적으로 원하는 형태의 리스트를 만듭니다.\\nfinal_list = []\\nfor item in split_by_comma:\\n    split_by_slash = item.split(\\'/\\')\\n    final_list.extend(split_by_slash)\\n\\nprint(final_list)\\n```'}\n",
            "\n",
            "{'role': 'user', 'content': \"interest 리스트에는 아래의 데이터가 바인딩되어 있다.\\n\\ninterest = ['삼성전자', 'LG전자', 'Naver', 'SK하이닉스', '미래에셋대우']\\njoin() 메서드를 사용해서 interest 리스트를 아래와 같이 화면에 출력하라.\\n\\n출력 예시:\\n삼성전자\\nLG전자\\nNaver\\nSK하이닉스\\n미래에셋대우\"}\n",
            "{'role': 'assistant', 'content': \"**해결 방법:**\\n\\n1. join() 메서드를 사용하여 interest 리스트의 각 요소를 개행 문자('\\\\n')를 기준으로 결합한다.\\n2. 결합된 문자열을 화면에 출력한다.\\n\\n이렇게 하면 interest 리스트에 있는 각 항목이 새로운 줄으로 출력됩니다.\"}\n",
            "{'role': 'user', 'content': '힌트 한번 더 볼래요!'}\n",
            "{'role': 'assistant', 'content': \"**해결 방법:**\\n\\n1. 먼저, join() 메서드를 사용하여 리스트의 각 요소를 결합하는 방법을 알아야 합니다. \\n    - join() 메서드는 문자열(str)을 호출하고 사용되며, 리스트의 각 요소를 해당 문자열을 구분자로 사용하여 하나의 문자열로 결합합니다.\\n    - 예를 들어, '\\\\n'.join(['월요일', '화요일', '수요일'])을 실행하면 '월요일\\\\n화요일\\\\n수요일'이라는 하나의 문자열이 생성됩니다.\\n\\n2. 결합된 문자열을 화면에 출력하기 위해 print() 함수를 사용합니다.\\n    - print() 함수를 사용하여 화면에 문자열을 출력할 수 있습니다.\\n    - 예를 들어, print('안녕하세요')를 실행하면 화면에 '안녕하세요'라는 문자열이 출력됩니다.\\n\\n이렇게 하면 interest 리스트에 있는 각 항목이 새로운 줄로 출력되며, 각 단계를 순서대로 진행하면 됩니다.\"}\n",
            "{'role': 'user', 'content': '정답 코드를 알고 싶어요!'}\n",
            "{'role': 'assistant', 'content': \"```python\\ninterest = ['국어', '정보', '수학', '체육', '역사']\\nprint('\\\\n'.join(interest))\\n```\"}\n",
            "\n",
            "{'role': 'user', 'content': '다음과 같은 문자열이 있을 때 이를 대문자 BTC_KRW로 변경하세요.\\n\\nticker = \"btc_krw\"'}\n",
            "{'role': 'assistant', 'content': '문자열을 대문자로 변경하는 방법은 `upper()` 메서드를 사용하는 것입니다. 주어진 예시에서는 `ticker` 변수에 저장된 \"btc_krw\" 문자열을 대문자로 변경해야 합니다.  \\n1. `ticker` 변수에 저장된 문자열을 대문자로 변경하려면 `upper()` 메서드를 사용하여 다음과 같이 코드를 작성합니다.\\n2. 코드를 실행하면 \"BTC_KRW\"로 문자열이 변경됩니다.'}\n",
            "{'role': 'user', 'content': '힌트 한번 더 볼래요!'}\n",
            "{'role': 'assistant', 'content': '문자열을 대문자로 변경하는 `upper()` 메서드는 해당 문자열을 모두 대문자로 변환해줍니다. 따라서 `ticker` 변수에 저장된 \"btc_krw\" 문자열을 `upper()` 메서드를 사용하여 대문자로 변경하면 \"BTC_KRW\"으로 바뀌게 됩니다.\\n\\n이때, `upper()` 메서드를 사용하는 것은 문자열을 변경하는 것이 아니라 대문자로 변환된 새로운 문자열을 반환하는 것이기 때문에 원래의 `ticker` 변수에는 영향을 주지 않습니다. 따라서, `\"btc_krw\".upper()` 코드를 실행하면 \"BTC_KRW\"으로 변환된 결과를 얻게 됩니다.'}\n",
            "{'role': 'user', 'content': '정답 코드를 알고 싶어요!'}\n",
            "{'role': 'assistant', 'content': '```python\\nticker = \"btc_krw\"\\nticker_upper = ticker.upper()\\nticker_upper\\n```'}\n",
            "\n",
            "{'role': 'user', 'content': '다음과 같이 문자열이 있을 때 btc와 krw로 나눠보세요.\\n\\nticker = \"btc_krw\"'}\n",
            "{'role': 'assistant', 'content': \"1. 먼저 주어진 문자열을 분리하기 전에 `split()` 메서드를 사용하여 '_'를 기준으로 문자열을 나눌 수 있습니다.\\n2. `split()` 메서드를 사용하면 문자열이 리스트로 변환되며, 이 경우에는 ['btc', 'krw']가 됩니다.\\n3. 따라서, 나눠진 두 단어를 각각 btc와 krw로 할당하면 됩니다.\"}\n",
            "{'role': 'user', 'content': '힌트 한번 더 볼래요!'}\n",
            "{'role': 'assistant', 'content': \"1. `split()` 메서드를 사용하여 문자열을 나눌 때는 문자열 뒤에 `.split('_')` 형식으로 `split()` 메서드를 호출합니다. 이때 '_'를 기준으로 문자열이 나누어지게 됩니다.\\n2. `split()` 메서드를 사용하면 나눠진 각각의 단어들이 리스트에 저장되는데, 예를 들어 'btc_krw' 문자열을 `split('_')` 메서드로 나눈다면 ['btc', 'krw']와 같이 리스트 형태로 반환됩니다.\\n3. 나눠진 리스트에서 각 요소를 따로 저장하고자 할 때는 해당 요소들을 인덱싱하여 변수에 할당하면 됩니다. 예를 들어 나눠진 리스트가 ['btc', 'krw']일 때 첫 번째 요소는 0번 인덱스로 btc라는 변수에 할당할 수 있습니다.\"}\n",
            "{'role': 'user', 'content': '정답 코드를 알고 싶어요!'}\n",
            "{'role': 'assistant', 'content': \"```python\\ns = 'btc_krw'\\nsplitted = s.split('_')\\nbtc = splitted[0]\\nkrw = splitted[1]\\n```\"}\n",
            "\n",
            "{'role': 'user', 'content': 'my_variable 이름의 비어있는 튜플을 만들라.'}\n",
            "{'role': 'assistant', 'content': \"튜플은 괄호 ()로 묶인 요소들의 불변(immutable) 순서(sequence) 자료형입니다. 비어있는 튜플을 만들기 위해서는 단순히 괄호 안에 아무 요소도 포함시키지 않으면 됩니다. \\n따라서, my_variable = ()와 같은 코드를 사용하여 이름이 'my_variable'인 비어있는 튜플을 만들 수 있습니다.\"}\n",
            "{'role': 'user', 'content': '힌트 한번 더 볼래요!'}\n",
            "{'role': 'assistant', 'content': \"튜플(Tuple)은 괄호 ()로 묶인 요소들의 불변(immutable) 순서(sequence) 자료형입니다. 튜플은 리스트와 유사하게 여러 요소를 하나로 묶어서 저장할 수 있지만, 튜플은 한 번 생성되면 내부 요소를 변경할 수 없다는 특징이 있습니다. \\n\\n비어있는 튜플을 만들기 위해서는 괄호 안에 아무 요소도 포함시키지 않습니다. 예를 들어, `my_variable = ()`와 같은 코드를 사용하여 이름이 'my_variable'인 비어있는 튜플을 생성할 수 있습니다. 이때, 괄호 안이 비어있기 때문에 튜플 안에는 어떤 요소도 포함되어 있지 않습니다. \\n\\n비어있는 튜플을 사용하는 이유는 나중에 프로그램에서 해당 변수에 값을 추가하거나 변경하지 않고, 단순히 어떤 요소들을 담을 수 있는 빈 자료형을 만들기 위함일 수 있습니다. 이렇게 만들어진 비어있는 튜플은 후속적인 데이터 추가나 변경이 없는 경우에 유용하게 활용될 수 있습니다.\"}\n",
            "{'role': 'user', 'content': '정답 코드를 알고 싶어요!'}\n",
            "{'role': 'assistant', 'content': '```python\\nmy_variable = ()\\n```  '}\n",
            "\n",
            "{'role': 'user', 'content': 'datetime 모듈의 now 함수의 리턴 값의 타입을 화면에 출력해보세요.'}\n",
            "{'role': 'assistant', 'content': 'datetime 모듈의 now 함수의 리턴 값은 datetime.datetime 타입입니다. 이를 확인하기 위해 코드를 실행하여 출력해보세요.'}\n",
            "{'role': 'user', 'content': '힌트 한번 더 볼래요!'}\n",
            "{'role': 'assistant', 'content': 'datetime 모듈의 now 함수는 현재 시각을 나타내는 datetime 객체를 반환합니다. 이 객체의 타입은 datetime.datetime입니다. \\n\\n코드를 실행하여 이를 확인하기 위해서는 datetime 모듈을 불러와서 now 함수를 호출하면 됩니다. 이때 datetime 객체가 반환되므로, 이 객체를 출력하면 현재 날짜와 시간 정보를 확인할 수 있습니다. 코드 실행 결과는 예를 들어 다음과 같이 나타날 수 있습니다: \\n\\n```python\\nimport datetime\\n\\nnow = datetime.datetime.now()\\nprint(now)\\n```\\n\\n위 코드를 실행하면 현재 날짜와 시간이 포함된 datetime 객체가 출력되는 것을 확인할 수 있습니다.'}\n",
            "{'role': 'user', 'content': '정답 코드를 알고 싶어요!'}\n",
            "{'role': 'assistant', 'content': '```python\\nimport datetime\\n\\nnow = datetime.datetime.now()\\nprint(now)\\n```'}\n",
            "\n"
          ]
        }
      ],
      "source": [
        "# DB에서 다운 받은 json 파일을 불러옵니다.\n",
        "\n",
        "import json\n",
        "\n",
        "file_path = \"chat_json.json\"\n",
        "\n",
        "with open(file_path, \"r\", encoding=\"utf-8\") as file:\n",
        "    data = json.load(file)\n",
        "\n",
        "# \"chat_json\" 내용 출력\n",
        "# 원하는 부분 잘라주고 한 문제씩 줄을 기준으로 나누어 줍니다.\n",
        "for i in range(0, len(data[\"chat_json\"]), 6):\n",
        "    for item in data[\"chat_json\"][i:i+6]:\n",
        "        print(item)\n",
        "    print()"
      ]
    },
    {
      "cell_type": "code",
      "source": [
        "# jsonl 형식으로 만들어 줍니다.\n",
        "# JSON Lines 파일 경로\n",
        "jsonl_file_path = \"chat_jsonl.jsonl\"\n",
        "\n",
        "# 6개씩 나눈 데이터를 JSON Lines 형식으로 저장\n",
        "with open(jsonl_file_path, \"w\", encoding=\"utf-8\") as jsonl_file:\n",
        "    for i in range(0, len(data[\"chat_json\"]), 6):\n",
        "        chunk = data[\"chat_json\"][i:i+6]\n",
        "        jsonl_file.write(json.dumps(chunk, ensure_ascii=False) + \"\\n\")"
      ],
      "metadata": {
        "id": "58Hag1m1d29V"
      },
      "execution_count": null,
      "outputs": []
    },
    {
      "cell_type": "code",
      "source": [
        "with open('chat_jsonl.jsonl', 'r', encoding = 'utf-8') as file:\n",
        "  original_jsonl_data = [json.loads(line) for line in file]"
      ],
      "metadata": {
        "id": "LnAb98mutq9j"
      },
      "execution_count": null,
      "outputs": []
    },
    {
      "cell_type": "code",
      "source": [
        "for chat in original_jsonl_data[0]:\n",
        "  print(chat)\n",
        "# ChatGPT 튜닝에는 채팅 데이터 넣어주는 게 좋다.\n",
        "# 이건 fine tuning 하기 위한 데이터는 아니다."
      ],
      "metadata": {
        "colab": {
          "base_uri": "https://localhost:8080/"
        },
        "id": "H_TpgfW6tuL7",
        "outputId": "5ca31158-2c2b-42c6-c6f5-3dba4b8aa756"
      },
      "execution_count": null,
      "outputs": [
        {
          "output_type": "stream",
          "name": "stdout",
          "text": [
            "{'role': 'user', 'content': '회사 이름이 슬래시 (\\'/\\')로 구분되어 하나의 문자열로 저장되어 있다.\\n\\nstring = \"삼성전자/LG전자/Naver\"\\n이를 interest 이름의 리스트로 분리 저장하라.\\n\\n실행 예시\\n>> print(interest)\\n[\\'삼성전자\\', \\'LG전자\\', \\'Naver\\']'}\n",
            "{'role': 'assistant', 'content': \"이 문제를 해결하기 위해서는 먼저 `string` 변수를 콤마(',')를 기준으로 분리한 후에 각각의 요소에서 슬래시('/')를 기준으로 다시 분리해야 합니다.\\n\\n1. `string` 변수를 콤마(',')를 기준으로 분리하여 리스트로 만듭니다.\\n2. 분리된 각 요소에서 슬래시('/')를 기준으로 분리하여 최종적으로 원하는 형태의 리스트를 만듭니다.\\n\\n위 단계에 따라서 천천히 코드를 작성하면서 각 단계마다 결과를 확인하고 수정해가면서 원하는 결과를 얻을 수 있습니다.\"}\n",
            "{'role': 'user', 'content': '힌트 한번 더 볼래요!'}\n",
            "{'role': 'assistant', 'content': '문제를 해결하기 위해서는 다음 단계에 따라 코드를 작성해야 합니다. \\n\\n1. 먼저 `string` 변수를 콤마(\\',\\')를 기준으로 분리하여 리스트로 만드는 작업을 해야 합니다. 이를 위해서는 `split()` 메서드를 사용하면 됩니다. `split()` 메서드를 사용하면 문자열을 지정한 구분자를 기준으로 분리하여 리스트로 반환합니다. \\n    - 예를 들어, `\"국어, 정보, 수학, 체육, 역사\"` 문자열을 `split(\",\")` 을 사용하여 콤마를 기준으로 분리하면 `[\"국어\", \" 정보\", \" 수학\", \" 체육\", \" 역사\"]` 리스트가 만들어집니다.\\n    \\n2. 분리된 각 요소에서 슬래시(\\'/\\')를 기준으로 분리하여 최종적으로 원하는 형태의 리스트를 만들어야 합니다. \\n    - 이를 위해서는 처음에 얻어진 리스트의 각 요소에 대해 다시 `split()` 메서드를 사용하여 슬래시(\\'/\\')를 기준으로 분리하면 됩니다.\\n    - 예를 들어, `\"국어/정보/수학/체육/역사\"` 문자열을 `split(\"/\")` 을 사용하여 슬래시를 기준으로 분리하면 `[\"국어\", \"정보\", \"수학\", \"체육\", \"역사\"]` 리스트가 만들어집니다.\\n\\n이렇게 천천히 코드를 작성하면서 각 단계에서 결과를 확인하고 수정해가면서 원하는 결과를 얻을 수 있습니다. 한 단계가 잘 이해되고 작동하는지 확인 후 다음 단계로 넘어가는 것이 중요합니다.'}\n",
            "{'role': 'user', 'content': '정답 코드를 알고 싶어요!'}\n",
            "{'role': 'assistant', 'content': '```python\\n# 1. string 변수를 콤마(\\',\\')를 기준으로 분리하여 리스트로 만듭니다.\\nstring = \"국어, 정보, 수학, 체육, 역사\"\\nsplit_by_comma = string.split(\\',\\')\\nprint(split_by_comma)\\n\\n# 2. 분리된 각 요소에서 슬래시(\\'/\\')를 기준으로 분리하여 최종적으로 원하는 형태의 리스트를 만듭니다.\\nfinal_list = []\\nfor item in split_by_comma:\\n    split_by_slash = item.split(\\'/\\')\\n    final_list.extend(split_by_slash)\\n\\nprint(final_list)\\n```'}\n"
          ]
        }
      ]
    },
    {
      "cell_type": "code",
      "source": [
        "speaker_dict = {'user':'user', 'assistant':'assistant'}\n",
        "\n",
        "def transform_to_new_format(original_data):\n",
        "  transformed_data = []\n",
        "  for conversation in original_data:\n",
        "    current_conversation = {'messages': []}\n",
        "\n",
        "    for item in conversation:\n",
        "      current_conversation['messages'].append({\n",
        "          'role':speaker_dict[item['role']],\n",
        "          'content':item['content']\n",
        "      })\n",
        "\n",
        "    # 각 대화를 변환된 데이터에 추가\n",
        "    transformed_data.append(current_conversation)\n",
        "\n",
        "  return transformed_data\n",
        "\n",
        "# def transform_to_new_format(original_data):\n",
        "#     transformed_data = []\n",
        "#     for conversation in original_data:\n",
        "#         current_conversation = {'messages': []}\n",
        "\n",
        "#         for item in conversation:\n",
        "#             if item['role'] == 'user':\n",
        "#                 role = 'user'\n",
        "#             elif item['role'] == 'assistant':\n",
        "#                 role = 'assistant'\n",
        "#             else:\n",
        "#                 role = item['role']  # 다른 역할에 대한 처리도 필요하면 여기에 추가\n",
        "\n",
        "#             current_conversation['messages'].append({\n",
        "#                 'role': role,\n",
        "#                 'content': item['content']\n",
        "#             })\n",
        "\n",
        "#         # 각 대화를 변환된 데이터에 추가\n",
        "#         transformed_data.append(current_conversation)\n",
        "\n",
        "#   return transformed_data\n"
      ],
      "metadata": {
        "id": "r4FAFtWTtNOH"
      },
      "execution_count": null,
      "outputs": []
    },
    {
      "cell_type": "code",
      "source": [
        "result = transform_to_new_format(original_jsonl_data)"
      ],
      "metadata": {
        "id": "Qr0YtJL-tTy8"
      },
      "execution_count": null,
      "outputs": []
    },
    {
      "cell_type": "code",
      "source": [
        "for chat in result[0]['messages']:\n",
        "  print(chat)\n",
        "# 전처리 완료"
      ],
      "metadata": {
        "colab": {
          "base_uri": "https://localhost:8080/"
        },
        "id": "WE24Zd3BtfYj",
        "outputId": "bfbe666f-d388-496c-dea6-9f258d9d5858"
      },
      "execution_count": null,
      "outputs": [
        {
          "output_type": "stream",
          "name": "stdout",
          "text": [
            "{'role': 'user', 'content': '회사 이름이 슬래시 (\\'/\\')로 구분되어 하나의 문자열로 저장되어 있다.\\n\\nstring = \"삼성전자/LG전자/Naver\"\\n이를 interest 이름의 리스트로 분리 저장하라.\\n\\n실행 예시\\n>> print(interest)\\n[\\'삼성전자\\', \\'LG전자\\', \\'Naver\\']'}\n",
            "{'role': 'assistant', 'content': \"이 문제를 해결하기 위해서는 먼저 `string` 변수를 콤마(',')를 기준으로 분리한 후에 각각의 요소에서 슬래시('/')를 기준으로 다시 분리해야 합니다.\\n\\n1. `string` 변수를 콤마(',')를 기준으로 분리하여 리스트로 만듭니다.\\n2. 분리된 각 요소에서 슬래시('/')를 기준으로 분리하여 최종적으로 원하는 형태의 리스트를 만듭니다.\\n\\n위 단계에 따라서 천천히 코드를 작성하면서 각 단계마다 결과를 확인하고 수정해가면서 원하는 결과를 얻을 수 있습니다.\"}\n",
            "{'role': 'user', 'content': '힌트 한번 더 볼래요!'}\n",
            "{'role': 'assistant', 'content': '문제를 해결하기 위해서는 다음 단계에 따라 코드를 작성해야 합니다. \\n\\n1. 먼저 `string` 변수를 콤마(\\',\\')를 기준으로 분리하여 리스트로 만드는 작업을 해야 합니다. 이를 위해서는 `split()` 메서드를 사용하면 됩니다. `split()` 메서드를 사용하면 문자열을 지정한 구분자를 기준으로 분리하여 리스트로 반환합니다. \\n    - 예를 들어, `\"국어, 정보, 수학, 체육, 역사\"` 문자열을 `split(\",\")` 을 사용하여 콤마를 기준으로 분리하면 `[\"국어\", \" 정보\", \" 수학\", \" 체육\", \" 역사\"]` 리스트가 만들어집니다.\\n    \\n2. 분리된 각 요소에서 슬래시(\\'/\\')를 기준으로 분리하여 최종적으로 원하는 형태의 리스트를 만들어야 합니다. \\n    - 이를 위해서는 처음에 얻어진 리스트의 각 요소에 대해 다시 `split()` 메서드를 사용하여 슬래시(\\'/\\')를 기준으로 분리하면 됩니다.\\n    - 예를 들어, `\"국어/정보/수학/체육/역사\"` 문자열을 `split(\"/\")` 을 사용하여 슬래시를 기준으로 분리하면 `[\"국어\", \"정보\", \"수학\", \"체육\", \"역사\"]` 리스트가 만들어집니다.\\n\\n이렇게 천천히 코드를 작성하면서 각 단계에서 결과를 확인하고 수정해가면서 원하는 결과를 얻을 수 있습니다. 한 단계가 잘 이해되고 작동하는지 확인 후 다음 단계로 넘어가는 것이 중요합니다.'}\n",
            "{'role': 'user', 'content': '정답 코드를 알고 싶어요!'}\n",
            "{'role': 'assistant', 'content': '```python\\n# 1. string 변수를 콤마(\\',\\')를 기준으로 분리하여 리스트로 만듭니다.\\nstring = \"국어, 정보, 수학, 체육, 역사\"\\nsplit_by_comma = string.split(\\',\\')\\nprint(split_by_comma)\\n\\n# 2. 분리된 각 요소에서 슬래시(\\'/\\')를 기준으로 분리하여 최종적으로 원하는 형태의 리스트를 만듭니다.\\nfinal_list = []\\nfor item in split_by_comma:\\n    split_by_slash = item.split(\\'/\\')\\n    final_list.extend(split_by_slash)\\n\\nprint(final_list)\\n```'}\n"
          ]
        }
      ]
    },
    {
      "cell_type": "code",
      "source": [
        "# 파일 저장 함수\n",
        "def save_jsonl_file(data, file_path):\n",
        "  with open(file_path, 'w', encoding ='utf-8') as file:\n",
        "    for item in data:\n",
        "      json.dump(item, file, ensure_ascii=False)\n",
        "      file.write('\\n')"
      ],
      "metadata": {
        "id": "gy0IYcRctgn4"
      },
      "execution_count": null,
      "outputs": []
    },
    {
      "cell_type": "code",
      "source": [
        "save_jsonl_file(result, 'messages.jsonl')"
      ],
      "metadata": {
        "id": "qhnFXYQWtiIO"
      },
      "execution_count": null,
      "outputs": []
    },
    {
      "cell_type": "code",
      "source": [
        "import pandas as pd\n",
        "\n",
        "df = pd.read_json('messages.jsonl', lines=True)\n",
        "\n",
        "df.head()"
      ],
      "metadata": {
        "colab": {
          "base_uri": "https://localhost:8080/",
          "height": 206
        },
        "id": "CpwmJIWwtjmr",
        "outputId": "67966b75-b434-4e2e-bffb-79954ad1de6a"
      },
      "execution_count": null,
      "outputs": [
        {
          "output_type": "execute_result",
          "data": {
            "text/plain": [
              "                                            messages\n",
              "0  [{'role': 'user', 'content': '회사 이름이 슬래시 ('/')...\n",
              "1  [{'role': 'user', 'content': 'interest 리스트에는 아...\n",
              "2  [{'role': 'user', 'content': '다음과 같은 문자열이 있을 때...\n",
              "3  [{'role': 'user', 'content': '다음과 같이 문자열이 있을 때...\n",
              "4  [{'role': 'user', 'content': 'my_variable 이름의 ..."
            ],
            "text/html": [
              "\n",
              "  <div id=\"df-ab75ba6c-1da0-4ee8-8d76-d294fd493831\" class=\"colab-df-container\">\n",
              "    <div>\n",
              "<style scoped>\n",
              "    .dataframe tbody tr th:only-of-type {\n",
              "        vertical-align: middle;\n",
              "    }\n",
              "\n",
              "    .dataframe tbody tr th {\n",
              "        vertical-align: top;\n",
              "    }\n",
              "\n",
              "    .dataframe thead th {\n",
              "        text-align: right;\n",
              "    }\n",
              "</style>\n",
              "<table border=\"1\" class=\"dataframe\">\n",
              "  <thead>\n",
              "    <tr style=\"text-align: right;\">\n",
              "      <th></th>\n",
              "      <th>messages</th>\n",
              "    </tr>\n",
              "  </thead>\n",
              "  <tbody>\n",
              "    <tr>\n",
              "      <th>0</th>\n",
              "      <td>[{'role': 'user', 'content': '회사 이름이 슬래시 ('/')...</td>\n",
              "    </tr>\n",
              "    <tr>\n",
              "      <th>1</th>\n",
              "      <td>[{'role': 'user', 'content': 'interest 리스트에는 아...</td>\n",
              "    </tr>\n",
              "    <tr>\n",
              "      <th>2</th>\n",
              "      <td>[{'role': 'user', 'content': '다음과 같은 문자열이 있을 때...</td>\n",
              "    </tr>\n",
              "    <tr>\n",
              "      <th>3</th>\n",
              "      <td>[{'role': 'user', 'content': '다음과 같이 문자열이 있을 때...</td>\n",
              "    </tr>\n",
              "    <tr>\n",
              "      <th>4</th>\n",
              "      <td>[{'role': 'user', 'content': 'my_variable 이름의 ...</td>\n",
              "    </tr>\n",
              "  </tbody>\n",
              "</table>\n",
              "</div>\n",
              "    <div class=\"colab-df-buttons\">\n",
              "\n",
              "  <div class=\"colab-df-container\">\n",
              "    <button class=\"colab-df-convert\" onclick=\"convertToInteractive('df-ab75ba6c-1da0-4ee8-8d76-d294fd493831')\"\n",
              "            title=\"Convert this dataframe to an interactive table.\"\n",
              "            style=\"display:none;\">\n",
              "\n",
              "  <svg xmlns=\"http://www.w3.org/2000/svg\" height=\"24px\" viewBox=\"0 -960 960 960\">\n",
              "    <path d=\"M120-120v-720h720v720H120Zm60-500h600v-160H180v160Zm220 220h160v-160H400v160Zm0 220h160v-160H400v160ZM180-400h160v-160H180v160Zm440 0h160v-160H620v160ZM180-180h160v-160H180v160Zm440 0h160v-160H620v160Z\"/>\n",
              "  </svg>\n",
              "    </button>\n",
              "\n",
              "  <style>\n",
              "    .colab-df-container {\n",
              "      display:flex;\n",
              "      gap: 12px;\n",
              "    }\n",
              "\n",
              "    .colab-df-convert {\n",
              "      background-color: #E8F0FE;\n",
              "      border: none;\n",
              "      border-radius: 50%;\n",
              "      cursor: pointer;\n",
              "      display: none;\n",
              "      fill: #1967D2;\n",
              "      height: 32px;\n",
              "      padding: 0 0 0 0;\n",
              "      width: 32px;\n",
              "    }\n",
              "\n",
              "    .colab-df-convert:hover {\n",
              "      background-color: #E2EBFA;\n",
              "      box-shadow: 0px 1px 2px rgba(60, 64, 67, 0.3), 0px 1px 3px 1px rgba(60, 64, 67, 0.15);\n",
              "      fill: #174EA6;\n",
              "    }\n",
              "\n",
              "    .colab-df-buttons div {\n",
              "      margin-bottom: 4px;\n",
              "    }\n",
              "\n",
              "    [theme=dark] .colab-df-convert {\n",
              "      background-color: #3B4455;\n",
              "      fill: #D2E3FC;\n",
              "    }\n",
              "\n",
              "    [theme=dark] .colab-df-convert:hover {\n",
              "      background-color: #434B5C;\n",
              "      box-shadow: 0px 1px 3px 1px rgba(0, 0, 0, 0.15);\n",
              "      filter: drop-shadow(0px 1px 2px rgba(0, 0, 0, 0.3));\n",
              "      fill: #FFFFFF;\n",
              "    }\n",
              "  </style>\n",
              "\n",
              "    <script>\n",
              "      const buttonEl =\n",
              "        document.querySelector('#df-ab75ba6c-1da0-4ee8-8d76-d294fd493831 button.colab-df-convert');\n",
              "      buttonEl.style.display =\n",
              "        google.colab.kernel.accessAllowed ? 'block' : 'none';\n",
              "\n",
              "      async function convertToInteractive(key) {\n",
              "        const element = document.querySelector('#df-ab75ba6c-1da0-4ee8-8d76-d294fd493831');\n",
              "        const dataTable =\n",
              "          await google.colab.kernel.invokeFunction('convertToInteractive',\n",
              "                                                    [key], {});\n",
              "        if (!dataTable) return;\n",
              "\n",
              "        const docLinkHtml = 'Like what you see? Visit the ' +\n",
              "          '<a target=\"_blank\" href=https://colab.research.google.com/notebooks/data_table.ipynb>data table notebook</a>'\n",
              "          + ' to learn more about interactive tables.';\n",
              "        element.innerHTML = '';\n",
              "        dataTable['output_type'] = 'display_data';\n",
              "        await google.colab.output.renderOutput(dataTable, element);\n",
              "        const docLink = document.createElement('div');\n",
              "        docLink.innerHTML = docLinkHtml;\n",
              "        element.appendChild(docLink);\n",
              "      }\n",
              "    </script>\n",
              "  </div>\n",
              "\n",
              "\n",
              "<div id=\"df-c8545f55-b370-4f1f-866b-ebc3c0a0d4e4\">\n",
              "  <button class=\"colab-df-quickchart\" onclick=\"quickchart('df-c8545f55-b370-4f1f-866b-ebc3c0a0d4e4')\"\n",
              "            title=\"Suggest charts\"\n",
              "            style=\"display:none;\">\n",
              "\n",
              "<svg xmlns=\"http://www.w3.org/2000/svg\" height=\"24px\"viewBox=\"0 0 24 24\"\n",
              "     width=\"24px\">\n",
              "    <g>\n",
              "        <path d=\"M19 3H5c-1.1 0-2 .9-2 2v14c0 1.1.9 2 2 2h14c1.1 0 2-.9 2-2V5c0-1.1-.9-2-2-2zM9 17H7v-7h2v7zm4 0h-2V7h2v10zm4 0h-2v-4h2v4z\"/>\n",
              "    </g>\n",
              "</svg>\n",
              "  </button>\n",
              "\n",
              "<style>\n",
              "  .colab-df-quickchart {\n",
              "      --bg-color: #E8F0FE;\n",
              "      --fill-color: #1967D2;\n",
              "      --hover-bg-color: #E2EBFA;\n",
              "      --hover-fill-color: #174EA6;\n",
              "      --disabled-fill-color: #AAA;\n",
              "      --disabled-bg-color: #DDD;\n",
              "  }\n",
              "\n",
              "  [theme=dark] .colab-df-quickchart {\n",
              "      --bg-color: #3B4455;\n",
              "      --fill-color: #D2E3FC;\n",
              "      --hover-bg-color: #434B5C;\n",
              "      --hover-fill-color: #FFFFFF;\n",
              "      --disabled-bg-color: #3B4455;\n",
              "      --disabled-fill-color: #666;\n",
              "  }\n",
              "\n",
              "  .colab-df-quickchart {\n",
              "    background-color: var(--bg-color);\n",
              "    border: none;\n",
              "    border-radius: 50%;\n",
              "    cursor: pointer;\n",
              "    display: none;\n",
              "    fill: var(--fill-color);\n",
              "    height: 32px;\n",
              "    padding: 0;\n",
              "    width: 32px;\n",
              "  }\n",
              "\n",
              "  .colab-df-quickchart:hover {\n",
              "    background-color: var(--hover-bg-color);\n",
              "    box-shadow: 0 1px 2px rgba(60, 64, 67, 0.3), 0 1px 3px 1px rgba(60, 64, 67, 0.15);\n",
              "    fill: var(--button-hover-fill-color);\n",
              "  }\n",
              "\n",
              "  .colab-df-quickchart-complete:disabled,\n",
              "  .colab-df-quickchart-complete:disabled:hover {\n",
              "    background-color: var(--disabled-bg-color);\n",
              "    fill: var(--disabled-fill-color);\n",
              "    box-shadow: none;\n",
              "  }\n",
              "\n",
              "  .colab-df-spinner {\n",
              "    border: 2px solid var(--fill-color);\n",
              "    border-color: transparent;\n",
              "    border-bottom-color: var(--fill-color);\n",
              "    animation:\n",
              "      spin 1s steps(1) infinite;\n",
              "  }\n",
              "\n",
              "  @keyframes spin {\n",
              "    0% {\n",
              "      border-color: transparent;\n",
              "      border-bottom-color: var(--fill-color);\n",
              "      border-left-color: var(--fill-color);\n",
              "    }\n",
              "    20% {\n",
              "      border-color: transparent;\n",
              "      border-left-color: var(--fill-color);\n",
              "      border-top-color: var(--fill-color);\n",
              "    }\n",
              "    30% {\n",
              "      border-color: transparent;\n",
              "      border-left-color: var(--fill-color);\n",
              "      border-top-color: var(--fill-color);\n",
              "      border-right-color: var(--fill-color);\n",
              "    }\n",
              "    40% {\n",
              "      border-color: transparent;\n",
              "      border-right-color: var(--fill-color);\n",
              "      border-top-color: var(--fill-color);\n",
              "    }\n",
              "    60% {\n",
              "      border-color: transparent;\n",
              "      border-right-color: var(--fill-color);\n",
              "    }\n",
              "    80% {\n",
              "      border-color: transparent;\n",
              "      border-right-color: var(--fill-color);\n",
              "      border-bottom-color: var(--fill-color);\n",
              "    }\n",
              "    90% {\n",
              "      border-color: transparent;\n",
              "      border-bottom-color: var(--fill-color);\n",
              "    }\n",
              "  }\n",
              "</style>\n",
              "\n",
              "  <script>\n",
              "    async function quickchart(key) {\n",
              "      const quickchartButtonEl =\n",
              "        document.querySelector('#' + key + ' button');\n",
              "      quickchartButtonEl.disabled = true;  // To prevent multiple clicks.\n",
              "      quickchartButtonEl.classList.add('colab-df-spinner');\n",
              "      try {\n",
              "        const charts = await google.colab.kernel.invokeFunction(\n",
              "            'suggestCharts', [key], {});\n",
              "      } catch (error) {\n",
              "        console.error('Error during call to suggestCharts:', error);\n",
              "      }\n",
              "      quickchartButtonEl.classList.remove('colab-df-spinner');\n",
              "      quickchartButtonEl.classList.add('colab-df-quickchart-complete');\n",
              "    }\n",
              "    (() => {\n",
              "      let quickchartButtonEl =\n",
              "        document.querySelector('#df-c8545f55-b370-4f1f-866b-ebc3c0a0d4e4 button');\n",
              "      quickchartButtonEl.style.display =\n",
              "        google.colab.kernel.accessAllowed ? 'block' : 'none';\n",
              "    })();\n",
              "  </script>\n",
              "</div>\n",
              "\n",
              "    </div>\n",
              "  </div>\n"
            ],
            "application/vnd.google.colaboratory.intrinsic+json": {
              "type": "dataframe",
              "variable_name": "df",
              "summary": "{\n  \"name\": \"df\",\n  \"rows\": 6,\n  \"fields\": [\n    {\n      \"column\": \"messages\",\n      \"properties\": {\n        \"dtype\": \"object\",\n        \"semantic_type\": \"\",\n        \"description\": \"\"\n      }\n    }\n  ]\n}"
            }
          },
          "metadata": {},
          "execution_count": 14
        }
      ]
    },
    {
      "cell_type": "code",
      "source": [
        "key = 'GPT API KEY 넣어주기'\n",
        "%env OPENAI_API_KEY={key}"
      ],
      "metadata": {
        "id": "QI4qKgHDHrUo"
      },
      "execution_count": null,
      "outputs": []
    },
    {
      "cell_type": "code",
      "source": [
        "#pip install openai"
      ],
      "metadata": {
        "id": "yQGnN5L6Proq"
      },
      "execution_count": null,
      "outputs": []
    },
    {
      "cell_type": "code",
      "source": [
        "import json\n",
        "import pandas as pd\n",
        "import openai\n",
        "\n",
        "from openai import OpenAI\n",
        "\n",
        "client = OpenAI()"
      ],
      "metadata": {
        "id": "JR_XMG02Pru1"
      },
      "execution_count": null,
      "outputs": []
    },
    {
      "cell_type": "code",
      "source": [
        "client.files.create(\n",
        "    file = open('messages.jsonl', 'rb'),\n",
        "    purpose = 'fine-tune'\n",
        ")\n",
        "# id : openai 쪽으로 파일이 업로드되는데 파일과 맵핑되는 파일 아이디가 발급된다. 기억."
      ],
      "metadata": {
        "id": "cSDHv71bPrxo"
      },
      "execution_count": null,
      "outputs": []
    },
    {
      "cell_type": "code",
      "source": [
        "client.fine_tuning.jobs.create(\n",
        "    training_file = '파일명',\n",
        "    model = 'gpt-3.5-turbo'\n",
        ")\n",
        "\n",
        "# client.fine_tuning.jobs.create(\n",
        "#     training_file= '파일명',\n",
        "#     model = 'gpt-3.5-turbo',\n",
        "#     hyperparameters={\n",
        "#         'n_epochs':2\n",
        "#     }\n",
        "# )\n",
        "# epochs 지정 안하면 맘대로 학습 횟수 정해버린다."
      ],
      "metadata": {
        "id": "WF8WijCbPr0S"
      },
      "execution_count": null,
      "outputs": []
    },
    {
      "cell_type": "code",
      "source": [
        "# 파인 튜닝 상태 확인. 10개 확인.\n",
        "# client.fine_tuning.jobs.list(limit = 10)"
      ],
      "metadata": {
        "id": "hU0K6fVGPr2b"
      },
      "execution_count": null,
      "outputs": []
    },
    {
      "cell_type": "code",
      "source": [
        "finetuning_lst = client.fine_tuning.jobs.list(limit = 10)\n",
        "for elem in finetuning_lst.data:\n",
        "  if elem.training_file == '파일명':\n",
        "    print(elem.status)"
      ],
      "metadata": {
        "id": "BA9-XRxOP2mS"
      },
      "execution_count": null,
      "outputs": []
    }
  ]
}