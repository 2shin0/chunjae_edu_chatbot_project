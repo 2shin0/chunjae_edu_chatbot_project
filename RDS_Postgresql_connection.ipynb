{
  "cells": [
    {
      "cell_type": "code",
      "execution_count": null,
      "metadata": {
        "colab": {
          "base_uri": "https://localhost:8080/"
        },
        "id": "WwvwfWEYldrF",
        "outputId": "b3aab781-835f-4057-a7f4-0a60828e4763"
      },
      "outputs": [
        {
          "name": "stdout",
          "output_type": "stream",
          "text": [
            "Requirement already satisfied: psycopg2 in /usr/local/lib/python3.10/dist-packages (2.9.9)\n"
          ]
        }
      ],
      "source": [
        "import sys\n",
        "!{sys.executable} -m pip install psycopg2"
      ]
    },
    {
      "cell_type": "code",
      "execution_count": null,
      "metadata": {
        "id": "0_LFKW8bl58B"
      },
      "outputs": [],
      "source": [
        "import pandas as pd\n",
        "import psycopg2"
      ]
    },
    {
      "cell_type": "code",
      "execution_count": null,
      "metadata": {
        "id": "KwZTPHCkkidt"
      },
      "outputs": [],
      "source": [
        "connection = psycopg2.connect(\n",
        "    host = 'AWS DB 엔드포인트를 넣어주세요',\n",
        "    port = 5432,\n",
        "    user = 'postgres',\n",
        "    password = 'password를 넣어주세요',\n",
        "    database='데이터베이스명을 넣어주세요. 추가 설정에서 적은 이름을 넣어야 합니다.'\n",
        "    )"
      ]
    },
    {
      "cell_type": "code",
      "execution_count": null,
      "metadata": {
        "id": "mlhOAhBsl9mT"
      },
      "outputs": [],
      "source": [
        "# 커서 생성\n",
        "cursor=connection.cursor()"
      ]
    },
    {
      "cell_type": "code",
      "execution_count": null,
      "metadata": {},
      "outputs": [],
      "source": [
        "# 연결 확인을 위한 핑 던져보기(선택사항)\n",
        "import os\n",
        "\n",
        "# Replace YOUR_RDS_ENDPOINT with your actual RDS endpoint\n",
        "rds_endpoint = \"test-db.crs44aage3d5.ap-northeast-2.rds.amazonaws.com\"\n",
        "\n",
        "# Ping the RDS endpoint\n",
        "response = os.system(\"ping -c 3 \" + rds_endpoint)\n",
        "\n",
        "# Check the response\n",
        "if response == 0:\n",
        "    print(\"Ping successful! RDS endpoint is reachable.\")\n",
        "else:\n",
        "    print(\"Ping failed! RDS endpoint is unreachable.\")"
      ]
    },
    {
      "cell_type": "code",
      "execution_count": null,
      "metadata": {},
      "outputs": [],
      "source": [
        "# 코랩으로 AWS DB와 연결할 때에는 보안 그룹에서 코랩 IP주소를 추가하여 인바운드 규칙을 수정해 주어야 합니다.\n",
        "# 아래 코드로 코랩 IP주소를 확인하고 인바운드 규칙에 'PostgreSQL-TCP-5432-코랩IP주소'를 추가합니다.\n",
        "import requests\n",
        "response = requests.get('https://api.ipify.org')\n",
        "print('My IP address is:', response.text)"
      ]
    },
    {
      "cell_type": "code",
      "execution_count": null,
      "metadata": {},
      "outputs": [],
      "source": [
        "create_query = \"CREATE TABLE chat_json (role TEXT, content TEXT);\"\n",
        "insert_query = \"INSERT INTO chat_json (role, content) VALUES ( 'system', '안녕하세요');\"\n",
        "cursor.execute(create_query)\n",
        "cursor.execute(insert_query)\n",
        "connection.commit()"
      ]
    },
    {
      "cell_type": "code",
      "execution_count": null,
      "metadata": {
        "colab": {
          "base_uri": "https://localhost:8080/"
        },
        "id": "kxntx2awALAG",
        "outputId": "cf489bcd-092c-4681-ccbc-b2ce9c8565cd"
      },
      "outputs": [
        {
          "name": "stdout",
          "output_type": "stream",
          "text": [
            "('system', '안녕하세요')\n"
          ]
        }
      ],
      "source": [
        "query = \"SELECT * FROM chat_json;\"\n",
        "cursor.execute(query)\n",
        "rows = cursor.fetchall()\n",
        "for row in rows:\n",
        "  print(row)"
      ]
    }
  ],
  "metadata": {
    "colab": {
      "provenance": []
    },
    "kernelspec": {
      "display_name": "Python 3",
      "name": "python3"
    },
    "language_info": {
      "name": "python"
    }
  },
  "nbformat": 4,
  "nbformat_minor": 0
}
