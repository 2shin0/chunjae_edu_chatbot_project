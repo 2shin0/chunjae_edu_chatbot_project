{
  "nbformat": 4,
  "nbformat_minor": 0,
  "metadata": {
    "colab": {
      "provenance": []
    },
    "kernelspec": {
      "name": "python3",
      "display_name": "Python 3"
    },
    "language_info": {
      "name": "python"
    }
  },
  "cells": [
    {
      "cell_type": "code",
      "source": [
        "import sys\n",
        "!{sys.executable} -m pip install psycopg2"
      ],
      "metadata": {
        "colab": {
          "base_uri": "https://localhost:8080/"
        },
        "id": "WwvwfWEYldrF",
        "outputId": "b3aab781-835f-4057-a7f4-0a60828e4763"
      },
      "execution_count": null,
      "outputs": [
        {
          "output_type": "stream",
          "name": "stdout",
          "text": [
            "Requirement already satisfied: psycopg2 in /usr/local/lib/python3.10/dist-packages (2.9.9)\n"
          ]
        }
      ]
    },
    {
      "cell_type": "code",
      "source": [
        "import pandas as pd\n",
        "import psycopg2"
      ],
      "metadata": {
        "id": "0_LFKW8bl58B"
      },
      "execution_count": null,
      "outputs": []
    },
    {
      "cell_type": "code",
      "execution_count": null,
      "metadata": {
        "id": "KwZTPHCkkidt"
      },
      "outputs": [],
      "source": [
        "connection = psycopg2.connect(\n",
        "    host = 'AWS DB 엔드포인트를 넣어주세요',\n",
        "    port = 5432,\n",
        "    user = 'postgres',\n",
        "    password = 'password를 넣어주세요',\n",
        "    database='데이터베이스명을 넣어주세요. 추가 설정에서 적은 이름을 넣어야 합니다.'\n",
        "    )"
      ]
    },
    {
      "cell_type": "code",
      "source": [
        "# 커서 생성\n",
        "cursor=connection.cursor()"
      ],
      "metadata": {
        "id": "mlhOAhBsl9mT"
      },
      "execution_count": null,
      "outputs": []
    },
    {
      "cell_type": "code",
      "source": [
        "# 연결 확인을 위한 핑 던져보기(선택사항)\n",
        "import os\n",
        "\n",
        "# Replace YOUR_RDS_ENDPOINT with your actual RDS endpoint\n",
        "rds_endpoint = \"test-db.crs44aage3d5.ap-northeast-2.rds.amazonaws.com\"\n",
        "\n",
        "# Ping the RDS endpoint\n",
        "response = os.system(\"ping -c 3 \" + rds_endpoint)\n",
        "\n",
        "# Check the response\n",
        "if response == 0:\n",
        "    print(\"Ping successful! RDS endpoint is reachable.\")\n",
        "else:\n",
        "    print(\"Ping failed! RDS endpoint is unreachable.\")\n"
      ],
      "metadata": {
        "colab": {
          "base_uri": "https://localhost:8080/"
        },
        "id": "VO7oiV2ym8Ei",
        "outputId": "1f8dac3f-7d78-4b43-c913-d2893573f9d9"
      },
      "execution_count": null,
      "outputs": [
        {
          "output_type": "stream",
          "name": "stdout",
          "text": [
            "Ping failed! RDS endpoint is unreachable.\n"
          ]
        }
      ]
    },
    {
      "cell_type": "code",
      "source": [
        "# 코랩으로 AWS DB와 연결할 때에는 보안 그룹에서 코랩 IP주소를 추가하여 인바운드 규칙을 수정해 주어야 합니다.\n",
        "# 아래 코드로 코랩 IP주소를 확인하고 인바운드 규칙에 'PostgreSQL-TCP-5432-코랩IP주소'를 추가합니다.\n",
        "import requests\n",
        "response = requests.get('https://api.ipify.org')\n",
        "print('My IP address is:', response.text)"
      ],
      "metadata": {
        "colab": {
          "base_uri": "https://localhost:8080/"
        },
        "id": "jxKPoUY8m-KH",
        "outputId": "6efbcd12-5b34-49a6-de25-12bae3c0886c"
      },
      "execution_count": null,
      "outputs": [
        {
          "output_type": "stream",
          "name": "stdout",
          "text": [
            "My IP address is: 34.106.124.128\n"
          ]
        }
      ]
    },
    {
      "cell_type": "code",
      "source": [
        "create_query = \"CREATE TABLE chat_json (role TEXT, content TEXT);\"\n",
        "insert_query = \"INSERT INTO chat_json (role, content) VALUES ( 'system', '안녕하세요');\"\n",
        "cursor.execute(create_query)\n",
        "cursor.execute(insert_query)\n",
        "connection.commit()"
      ],
      "metadata": {
        "colab": {
          "base_uri": "https://localhost:8080/",
          "height": 219
        },
        "id": "GLU2Shhppo2c",
        "outputId": "67efdaed-21c6-4cfb-a6ff-c91b69b60fbb"
      },
      "execution_count": null,
      "outputs": [
        {
          "output_type": "error",
          "ename": "InFailedSqlTransaction",
          "evalue": "current transaction is aborted, commands ignored until end of transaction block\n",
          "traceback": [
            "\u001b[0;31m---------------------------------------------------------------------------\u001b[0m",
            "\u001b[0;31mInFailedSqlTransaction\u001b[0m                    Traceback (most recent call last)",
            "\u001b[0;32m<ipython-input-25-78867a717b4d>\u001b[0m in \u001b[0;36m<cell line: 3>\u001b[0;34m()\u001b[0m\n\u001b[1;32m      1\u001b[0m \u001b[0mcreate_query\u001b[0m \u001b[0;34m=\u001b[0m \u001b[0;34m\"CREATE TABLE chat_json00 (role TEXT, content TEXT);\"\u001b[0m\u001b[0;34m\u001b[0m\u001b[0;34m\u001b[0m\u001b[0m\n\u001b[1;32m      2\u001b[0m \u001b[0;31m#insert_query = \"INSERT INTO chat_logs1 (role, content) VALUES ( 'system', '안녕하세요');\"\u001b[0m\u001b[0;34m\u001b[0m\u001b[0;34m\u001b[0m\u001b[0m\n\u001b[0;32m----> 3\u001b[0;31m \u001b[0mcursor\u001b[0m\u001b[0;34m.\u001b[0m\u001b[0mexecute\u001b[0m\u001b[0;34m(\u001b[0m\u001b[0mcreate_query\u001b[0m\u001b[0;34m)\u001b[0m\u001b[0;34m\u001b[0m\u001b[0;34m\u001b[0m\u001b[0m\n\u001b[0m\u001b[1;32m      4\u001b[0m \u001b[0;31m#cursor.execute(insert_query)\u001b[0m\u001b[0;34m\u001b[0m\u001b[0;34m\u001b[0m\u001b[0m\n\u001b[1;32m      5\u001b[0m \u001b[0mconnection\u001b[0m\u001b[0;34m.\u001b[0m\u001b[0mcommit\u001b[0m\u001b[0;34m(\u001b[0m\u001b[0;34m)\u001b[0m\u001b[0;34m\u001b[0m\u001b[0;34m\u001b[0m\u001b[0m\n",
            "\u001b[0;31mInFailedSqlTransaction\u001b[0m: current transaction is aborted, commands ignored until end of transaction block\n"
          ]
        }
      ]
    },
    {
      "cell_type": "code",
      "source": [
        "query = \"SELECT * FROM chat_json;\"\n",
        "cursor.execute(query)\n",
        "rows = cursor.fetchall()\n",
        "for row in rows:\n",
        "  print(row)"
      ],
      "metadata": {
        "colab": {
          "base_uri": "https://localhost:8080/"
        },
        "id": "kxntx2awALAG",
        "outputId": "cf489bcd-092c-4681-ccbc-b2ce9c8565cd"
      },
      "execution_count": null,
      "outputs": [
        {
          "output_type": "stream",
          "name": "stdout",
          "text": [
            "('system', '안녕하세요')\n"
          ]
        }
      ]
    }
  ]
}